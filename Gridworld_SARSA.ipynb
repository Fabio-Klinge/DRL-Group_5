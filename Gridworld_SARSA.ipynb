{
 "cells": [
  {
   "cell_type": "markdown",
   "metadata": {},
   "source": [
    "# Implementation of SARSA solving a gridworld environment"
   ]
  },
  {
   "cell_type": "code",
   "execution_count": 2,
   "metadata": {},
   "outputs": [],
   "source": [
    "import numpy as np\n",
    "import random as r\n",
    "from operator import add"
   ]
  },
  {
   "cell_type": "code",
   "execution_count": 4,
   "metadata": {},
   "outputs": [
    {
     "name": "stdout",
     "output_type": "stream",
     "text": [
      "[['0' '-0.7583515558585846' '0' '0' 'X']\n",
      " ['-0.8088523662412321' '0' '0' 'X' '0']\n",
      " ['0' '5' '-0.8141914892041596' '-0.41682861569937135' '0']\n",
      " ['0' '0' '0' '0' '0']\n",
      " ['-0.11572822865154753' '0' '0' 'X' '0']]\n"
     ]
    },
    {
     "data": {
      "text/plain": [
       "([2, 1], [4, 2])"
      ]
     },
     "execution_count": 4,
     "metadata": {},
     "output_type": "execute_result"
    }
   ],
   "source": [
    "class Gridworld:\n",
    "\n",
    "    def __init__(self, size):\n",
    "        self.size = size\n",
    "        # Create 2d list with filled with zeros\n",
    "        self.grid = [[0] * self.size for i in range(self.size)]\n",
    "        # Current state of agent\n",
    "        self.current_state = None\n",
    "\n",
    "    def reset(self):\n",
    "\n",
    "        # Input error correction\n",
    "        if self.size < 5 or isinstance(self.size, int) == False:\n",
    "            print(\"The size entered for the grid is too small or was no integer. Please try an integer bigger than 4.\")\n",
    "\n",
    "        else:\n",
    "            # Create negative fields\n",
    "            for j in range(int(self.size)):\n",
    "                self.grid[r.randint(0, self.size-1)][r.randint(0, self.size-1)] = r.uniform(-1, 0)\n",
    "\n",
    "            # Saves indeces of blocked field\n",
    "            blocked_fields_idx = []\n",
    "            # Create blocked fields\n",
    "            for k in range(int(self.size/1.5)):\n",
    "                blocked_fields = [r.randint(0, self.size-1), r.randint(0, self.size-1)]\n",
    "                blocked_fields_idx.append(blocked_fields)\n",
    "\n",
    "                self.grid[blocked_fields[0]][blocked_fields[1]] = \"X\"\n",
    "\n",
    "            # initial index of terminal state\n",
    "            goal_idx = [r.randint(0, self.size-1), r.randint(0, self.size-1)]\n",
    "            \n",
    "            # Check adjacent fields to index of terminal state and update until no blocked field is adjacent\n",
    "            while list(map(add, goal_idx, [0, -1])) in blocked_fields_idx or list(map(add, goal_idx, [0, +1])) in blocked_fields_idx or list(map(add, goal_idx, [-1, 0])) in blocked_fields_idx or list(map(add, goal_idx, [+1, 0])) in blocked_fields_idx: \n",
    "                goal_idx = [r.randint(0, self.size-1), r.randint(0, self.size-1)]\n",
    "\n",
    "            # Create terminal state with positive reward\n",
    "            self.grid[goal_idx[0]][goal_idx[1]] = 5\n",
    "               \n",
    "            starting_point_idx = [r.randint(0, self.size-1), r.randint(0, self.size-1)]\n",
    "\n",
    "            # Update starting point until it is a zero value\n",
    "            while self.grid[starting_point_idx[0]][starting_point_idx[1]]:\n",
    "                starting_point_idx = [r.randint(0, self.size-1), r.randint(0, self.size-1)]\n",
    "\n",
    "            # Set current state to starting state\n",
    "            self.current_state = starting_point_idx\n",
    "\n",
    "            # Print in matrix format - Rest of program still works uses lists\n",
    "            print(np.matrix(self.grid))\n",
    "\n",
    "            return goal_idx, starting_point_idx\n",
    "        \n",
    "    def step(self, action):\n",
    "        '''\n",
    "        Moves agent in grid\n",
    "\n",
    "        args:\n",
    "        action(int): How agent should move (0=left, 1=right, 2=up, 3=down)\n",
    "        '''\n",
    "        # Left\n",
    "        if action == 0:\n",
    "            # Compute result of action\n",
    "            test_state = list(map(add, self.current_state, [0, -1]))\n",
    "            \n",
    "            # New list index is out of bounds (left)\n",
    "            if test_state[1] == -1:\n",
    "                # Move one row up to last index of row\n",
    "                #self.current_state = [self.current_state[0]-1, self.size-1 ]\n",
    "\n",
    "                print(\"Wall\")\n",
    "\n",
    "            else:\n",
    "                self.current_state = test_state\n",
    "\n",
    "        # Right\n",
    "        if action == 1:\n",
    "            # Compute result of action\n",
    "            test_state = list(map(add, self.current_state, [0, +1]))\n",
    "            \n",
    "            # New list index is out of bounds (right)\n",
    "            if test_state[1] == self.size:\n",
    "                # Move one row down to first index of row\n",
    "                #self.current_state = [self.current_state[0]+1, 0]\n",
    "\n",
    "                print(\"Wall\")\n",
    "\n",
    "            else:\n",
    "                self.current_state = test_state\n",
    "\n",
    "        if action \n",
    "        \n",
    "\n",
    "a = Gridworld(5)\n",
    "a.reset()\n",
    "\n",
    "#print(range(10))"
   ]
  },
  {
   "cell_type": "code",
   "execution_count": null,
   "metadata": {},
   "outputs": [
    {
     "name": "stdout",
     "output_type": "stream",
     "text": [
      "[6, 5]\n"
     ]
    }
   ],
   "source": [
    "bre1 = [5,7]\n",
    "bre2 = [1,-2]\n",
    "\n",
    "print(list(map(add, bre1, bre2)))"
   ]
  }
 ],
 "metadata": {
  "interpreter": {
   "hash": "4f1073c099ddc7feaa79a7ad20594747d23b588351da1e73dea2959a263903ad"
  },
  "kernelspec": {
   "display_name": "Python 3.9.7 ('iannwtf')",
   "language": "python",
   "name": "python3"
  },
  "language_info": {
   "codemirror_mode": {
    "name": "ipython",
    "version": 3
   },
   "file_extension": ".py",
   "mimetype": "text/x-python",
   "name": "python",
   "nbconvert_exporter": "python",
   "pygments_lexer": "ipython3",
   "version": "3.9.7"
  },
  "orig_nbformat": 4
 },
 "nbformat": 4,
 "nbformat_minor": 2
}
